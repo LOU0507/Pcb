{
 "cells": [
  {
   "cell_type": "code",
   "execution_count": 1,
   "metadata": {},
   "outputs": [],
   "source": [
    "### read me !! ###\n",
    "\n",
    "## Development environment\n",
    "\n",
    "# python - 3.8\n",
    "# \n",
    "#\n",
    "#"
   ]
  },
  {
   "cell_type": "code",
   "execution_count": 2,
   "metadata": {},
   "outputs": [
    {
     "name": "stdout",
     "output_type": "stream",
     "text": [
      "Requirement already satisfied: ultralytics in /opt/anaconda3/envs/spm/lib/python3.8/site-packages (8.1.38)\n",
      "Requirement already satisfied: matplotlib>=3.3.0 in /opt/anaconda3/envs/spm/lib/python3.8/site-packages (from ultralytics) (3.7.5)\n",
      "Requirement already satisfied: opencv-python>=4.6.0 in /opt/anaconda3/envs/spm/lib/python3.8/site-packages (from ultralytics) (4.9.0.80)\n",
      "Requirement already satisfied: pillow>=7.1.2 in /opt/anaconda3/envs/spm/lib/python3.8/site-packages (from ultralytics) (10.2.0)\n",
      "Requirement already satisfied: pyyaml>=5.3.1 in /opt/anaconda3/envs/spm/lib/python3.8/site-packages (from ultralytics) (6.0.1)\n",
      "Requirement already satisfied: requests>=2.23.0 in /opt/anaconda3/envs/spm/lib/python3.8/site-packages (from ultralytics) (2.31.0)\n",
      "Requirement already satisfied: scipy>=1.4.1 in /opt/anaconda3/envs/spm/lib/python3.8/site-packages (from ultralytics) (1.10.1)\n",
      "Requirement already satisfied: torch>=1.8.0 in /opt/anaconda3/envs/spm/lib/python3.8/site-packages (from ultralytics) (2.2.2)\n",
      "Requirement already satisfied: torchvision>=0.9.0 in /opt/anaconda3/envs/spm/lib/python3.8/site-packages (from ultralytics) (0.17.2)\n",
      "Requirement already satisfied: tqdm>=4.64.0 in /opt/anaconda3/envs/spm/lib/python3.8/site-packages (from ultralytics) (4.66.2)\n",
      "Requirement already satisfied: psutil in /opt/anaconda3/envs/spm/lib/python3.8/site-packages (from ultralytics) (5.9.8)\n",
      "Requirement already satisfied: py-cpuinfo in /opt/anaconda3/envs/spm/lib/python3.8/site-packages (from ultralytics) (9.0.0)\n",
      "Requirement already satisfied: thop>=0.1.1 in /opt/anaconda3/envs/spm/lib/python3.8/site-packages (from ultralytics) (0.1.1.post2209072238)\n",
      "Requirement already satisfied: pandas>=1.1.4 in /opt/anaconda3/envs/spm/lib/python3.8/site-packages (from ultralytics) (2.0.3)\n",
      "Requirement already satisfied: seaborn>=0.11.0 in /opt/anaconda3/envs/spm/lib/python3.8/site-packages (from ultralytics) (0.13.2)\n",
      "Requirement already satisfied: contourpy>=1.0.1 in /opt/anaconda3/envs/spm/lib/python3.8/site-packages (from matplotlib>=3.3.0->ultralytics) (1.1.1)\n",
      "Requirement already satisfied: cycler>=0.10 in /opt/anaconda3/envs/spm/lib/python3.8/site-packages (from matplotlib>=3.3.0->ultralytics) (0.12.1)\n",
      "Requirement already satisfied: fonttools>=4.22.0 in /opt/anaconda3/envs/spm/lib/python3.8/site-packages (from matplotlib>=3.3.0->ultralytics) (4.50.0)\n",
      "Requirement already satisfied: kiwisolver>=1.0.1 in /opt/anaconda3/envs/spm/lib/python3.8/site-packages (from matplotlib>=3.3.0->ultralytics) (1.4.5)\n",
      "Requirement already satisfied: numpy<2,>=1.20 in /opt/anaconda3/envs/spm/lib/python3.8/site-packages (from matplotlib>=3.3.0->ultralytics) (1.24.4)\n",
      "Requirement already satisfied: packaging>=20.0 in /opt/anaconda3/envs/spm/lib/python3.8/site-packages (from matplotlib>=3.3.0->ultralytics) (24.0)\n",
      "Requirement already satisfied: pyparsing>=2.3.1 in /opt/anaconda3/envs/spm/lib/python3.8/site-packages (from matplotlib>=3.3.0->ultralytics) (3.1.2)\n",
      "Requirement already satisfied: python-dateutil>=2.7 in /opt/anaconda3/envs/spm/lib/python3.8/site-packages (from matplotlib>=3.3.0->ultralytics) (2.9.0)\n",
      "Requirement already satisfied: importlib-resources>=3.2.0 in /opt/anaconda3/envs/spm/lib/python3.8/site-packages (from matplotlib>=3.3.0->ultralytics) (6.4.0)\n",
      "Requirement already satisfied: pytz>=2020.1 in /opt/anaconda3/envs/spm/lib/python3.8/site-packages (from pandas>=1.1.4->ultralytics) (2024.1)\n",
      "Requirement already satisfied: tzdata>=2022.1 in /opt/anaconda3/envs/spm/lib/python3.8/site-packages (from pandas>=1.1.4->ultralytics) (2024.1)\n",
      "Requirement already satisfied: charset-normalizer<4,>=2 in /opt/anaconda3/envs/spm/lib/python3.8/site-packages (from requests>=2.23.0->ultralytics) (3.3.2)\n",
      "Requirement already satisfied: idna<4,>=2.5 in /opt/anaconda3/envs/spm/lib/python3.8/site-packages (from requests>=2.23.0->ultralytics) (3.6)\n",
      "Requirement already satisfied: urllib3<3,>=1.21.1 in /opt/anaconda3/envs/spm/lib/python3.8/site-packages (from requests>=2.23.0->ultralytics) (2.2.1)\n",
      "Requirement already satisfied: certifi>=2017.4.17 in /opt/anaconda3/envs/spm/lib/python3.8/site-packages (from requests>=2.23.0->ultralytics) (2024.2.2)\n",
      "Requirement already satisfied: filelock in /opt/anaconda3/envs/spm/lib/python3.8/site-packages (from torch>=1.8.0->ultralytics) (3.13.3)\n",
      "Requirement already satisfied: typing-extensions>=4.8.0 in /opt/anaconda3/envs/spm/lib/python3.8/site-packages (from torch>=1.8.0->ultralytics) (4.10.0)\n",
      "Requirement already satisfied: sympy in /opt/anaconda3/envs/spm/lib/python3.8/site-packages (from torch>=1.8.0->ultralytics) (1.12)\n",
      "Requirement already satisfied: networkx in /opt/anaconda3/envs/spm/lib/python3.8/site-packages (from torch>=1.8.0->ultralytics) (3.1)\n",
      "Requirement already satisfied: jinja2 in /opt/anaconda3/envs/spm/lib/python3.8/site-packages (from torch>=1.8.0->ultralytics) (3.1.3)\n",
      "Requirement already satisfied: fsspec in /opt/anaconda3/envs/spm/lib/python3.8/site-packages (from torch>=1.8.0->ultralytics) (2024.3.1)\n",
      "Requirement already satisfied: zipp>=3.1.0 in /opt/anaconda3/envs/spm/lib/python3.8/site-packages (from importlib-resources>=3.2.0->matplotlib>=3.3.0->ultralytics) (3.17.0)\n",
      "Requirement already satisfied: six>=1.5 in /opt/anaconda3/envs/spm/lib/python3.8/site-packages (from python-dateutil>=2.7->matplotlib>=3.3.0->ultralytics) (1.16.0)\n",
      "Requirement already satisfied: MarkupSafe>=2.0 in /opt/anaconda3/envs/spm/lib/python3.8/site-packages (from jinja2->torch>=1.8.0->ultralytics) (2.1.5)\n",
      "Requirement already satisfied: mpmath>=0.19 in /opt/anaconda3/envs/spm/lib/python3.8/site-packages (from sympy->torch>=1.8.0->ultralytics) (1.3.0)\n",
      "Note: you may need to restart the kernel to use updated packages.\n"
     ]
    }
   ],
   "source": [
    "# 라이브러리 설치\n",
    "# ultralytics - CV를 포함한 딥러닝작업 관련 라이츠러리 패키지(yolo포함)\n",
    "%pip install ultralytics"
   ]
  },
  {
   "cell_type": "code",
   "execution_count": 1,
   "metadata": {},
   "outputs": [
    {
     "name": "stdout",
     "output_type": "stream",
     "text": [
      "Ultralytics YOLOv8.2.2  Python-3.8.18 torch-2.2.2+cu118 CUDA:0 (NVIDIA GeForce RTX 4080, 16376MiB)\n",
      "Setup complete  (24 CPUs, 63.9 GB RAM, 275.4/1862.3 GB disk)\n"
     ]
    }
   ],
   "source": [
    "import ultralytics # gpu연결 확인 라이브러리\n",
    "ultralytics.checks() #gpu연결 확인"
   ]
  },
  {
   "cell_type": "code",
   "execution_count": 8,
   "metadata": {},
   "outputs": [],
   "source": [
    "#파일 경로 설정(너 컴퓨터 프로젝트 파일이다,,)\n",
    "dir = 'C:/pcbtest/'"
   ]
  },
  {
   "cell_type": "code",
   "execution_count": 9,
   "metadata": {},
   "outputs": [
    {
     "name": "stdout",
     "output_type": "stream",
     "text": [
      "8534 1068 1066\n"
     ]
    }
   ],
   "source": [
    "# glob 라이브러리 선언\n",
    "from glob import glob\n",
    "# 현재 디렉토리에서 모든 이미지 파일을 찾아 리스트로 반환\n",
    "train_img_list = glob(dir+'dataset/train/images/*.jpg') # 훈련용 데이터 이미지\n",
    "test_img_list = glob(dir+'dataset/test/images/*.jpg') # 테스트용 데이터 이미지\n",
    "valid_img_list = glob(dir+'dataset/valid/images/*.jpg') # 검증용 데이터 (파일 갯수가 맞는지 정확하게 설지 되어있는지)이미지\n",
    "\n",
    "print(len(train_img_list), len(test_img_list), len(valid_img_list))"
   ]
  },
  {
   "cell_type": "code",
   "execution_count": 6,
   "metadata": {},
   "outputs": [
    {
     "name": "stdout",
     "output_type": "stream",
     "text": [
      "8534 1068 1066\n"
     ]
    }
   ],
   "source": [
    "# glob 라이브러리 선언\n",
    "from glob import glob\n",
    "# 현재 디렉토리에서 모든 텍스트 파일을 찾아 리스트로 반환\n",
    "train_labels_list = glob(dir+'dataset/train/labels/*.txt') # \"\"라벨링 정보\n",
    "test_labels_list = glob(dir+'dataset/test/labels/*.txt') # \"\"라벨링 정보\n",
    "valid_labels_list = glob(dir+'dataset/valid/labels/*.txt')\n",
    "\n",
    "print(len(train_labels_list), len(test_labels_list), len(valid_labels_list))"
   ]
  },
  {
   "cell_type": "code",
   "execution_count": 21,
   "metadata": {},
   "outputs": [
    {
     "name": "stdout",
     "output_type": "stream",
     "text": [
      "현재 경로 c:\\pcbtest\n",
      "yaml 파일 경로C:/pcbtest/dataset/data.yaml\n"
     ]
    }
   ],
   "source": [
    "# dir check\n",
    "import os\n",
    "print('현재 경로 %s' % os.getcwd())\n",
    "\n",
    "datadir = dir+'dataset/data.yaml'\n",
    "print('yaml 파일 경로' + datadir)"
   ]
  },
  {
   "cell_type": "code",
   "execution_count": 23,
   "metadata": {},
   "outputs": [
    {
     "name": "stdout",
     "output_type": "stream",
     "text": [
      "New https://pypi.org/project/ultralytics/8.2.16 available 😃 Update with 'pip install -U ultralytics'\n",
      "Ultralytics YOLOv8.2.2 🚀 Python-3.8.18 torch-2.2.2+cu118 CUDA:0 (NVIDIA GeForce RTX 4080, 16376MiB)\n",
      "\u001b[34m\u001b[1mengine\\trainer: \u001b[0mtask=detect, mode=train, model=yolov8n.pt, data=datadir, epochs=150, time=None, patience=100, batch=16, imgsz=600, save=True, save_period=-1, cache=False, device=None, workers=8, project=None, name=train11, exist_ok=False, pretrained=True, optimizer=auto, verbose=True, seed=0, deterministic=True, single_cls=False, rect=False, cos_lr=False, close_mosaic=10, resume=False, amp=True, fraction=1.0, profile=False, freeze=None, multi_scale=False, overlap_mask=True, mask_ratio=4, dropout=0.0, val=True, split=val, save_json=False, save_hybrid=False, conf=None, iou=0.7, max_det=300, half=False, dnn=False, plots=True, source=None, vid_stride=1, stream_buffer=False, visualize=False, augment=False, agnostic_nms=False, classes=None, retina_masks=False, embed=None, show=False, save_frames=False, save_txt=False, save_conf=False, save_crop=False, show_labels=True, show_conf=True, show_boxes=True, line_width=None, format=torchscript, keras=False, optimize=False, int8=False, dynamic=False, simplify=False, opset=None, workspace=4, nms=False, lr0=0.01, lrf=0.01, momentum=0.937, weight_decay=0.0005, warmup_epochs=3.0, warmup_momentum=0.8, warmup_bias_lr=0.1, box=7.5, cls=0.5, dfl=1.5, pose=12.0, kobj=1.0, label_smoothing=0.0, nbs=64, hsv_h=0.015, hsv_s=0.7, hsv_v=0.4, degrees=0.0, translate=0.1, scale=0.5, shear=0.0, perspective=0.0, flipud=0.0, fliplr=0.5, bgr=0.0, mosaic=1.0, mixup=0.0, copy_paste=0.0, auto_augment=randaugment, erasing=0.4, crop_fraction=1.0, cfg=None, tracker=botsort.yaml, save_dir=runs\\detect\\train11\n"
     ]
    },
    {
     "name": "stderr",
     "output_type": "stream",
     "text": [
      "Traceback (most recent call last):\n",
      "  File \"C:\\Users\\user\\anaconda3\\envs\\yolo\\lib\\site-packages\\ultralytics\\engine\\trainer.py\", line 517, in get_dataset\n",
      "    data = check_det_dataset(self.args.data)\n",
      "  File \"C:\\Users\\user\\anaconda3\\envs\\yolo\\lib\\site-packages\\ultralytics\\data\\utils.py\", line 269, in check_det_dataset\n",
      "    file = check_file(dataset)\n",
      "  File \"C:\\Users\\user\\anaconda3\\envs\\yolo\\lib\\site-packages\\ultralytics\\utils\\checks.py\", line 499, in check_file\n",
      "    raise FileNotFoundError(f\"'{file}' does not exist\")\n",
      "FileNotFoundError: 'datadir' does not exist\n",
      "\n",
      "The above exception was the direct cause of the following exception:\n",
      "\n",
      "Traceback (most recent call last):\n",
      "  File \"C:\\Users\\user\\anaconda3\\envs\\yolo\\lib\\runpy.py\", line 194, in _run_module_as_main\n",
      "    return _run_code(code, main_globals, None,\n",
      "  File \"C:\\Users\\user\\anaconda3\\envs\\yolo\\lib\\runpy.py\", line 87, in _run_code\n",
      "    exec(code, run_globals)\n",
      "  File \"C:\\Users\\user\\anaconda3\\envs\\yolo\\Scripts\\yolo.exe\\__main__.py\", line 7, in <module>\n",
      "  File \"C:\\Users\\user\\anaconda3\\envs\\yolo\\lib\\site-packages\\ultralytics\\cfg\\__init__.py\", line 582, in entrypoint\n",
      "    getattr(model, mode)(**overrides)  # default args from model\n",
      "  File \"C:\\Users\\user\\anaconda3\\envs\\yolo\\lib\\site-packages\\ultralytics\\engine\\model.py\", line 654, in train\n",
      "    self.trainer = (trainer or self._smart_load(\"trainer\"))(overrides=args, _callbacks=self.callbacks)\n",
      "  File \"C:\\Users\\user\\anaconda3\\envs\\yolo\\lib\\site-packages\\ultralytics\\engine\\trainer.py\", line 130, in __init__\n",
      "    self.trainset, self.testset = self.get_dataset()\n",
      "  File \"C:\\Users\\user\\anaconda3\\envs\\yolo\\lib\\site-packages\\ultralytics\\engine\\trainer.py\", line 521, in get_dataset\n",
      "    raise RuntimeError(emojis(f\"Dataset '{clean_url(self.args.data)}' error ❌ {e}\")) from e\n",
      "RuntimeError: Dataset 'datadir' error  'datadir' does not exist\n"
     ]
    }
   ],
   "source": [
    "!yolo train model=yolov8n.pt data=<<yalm파일 경로>> epochs=150 imgsz=600\n",
    "# epochs == 반복학습 횟수, imgsz = 이미지 픽셀 nXn, yolo train model=훈련모델경로, data=데이터 yalm파일 경로"
   ]
  },
  {
   "cell_type": "code",
   "execution_count": 23,
   "metadata": {},
   "outputs": [
    {
     "data": {
      "text/plain": [
       "1711894801.297291"
      ]
     },
     "execution_count": 23,
     "metadata": {},
     "output_type": "execute_result"
    }
   ],
   "source": [
    "import time\n",
    "t = time.time()\n",
    "t"
   ]
  },
  {
   "cell_type": "code",
   "execution_count": 1,
   "metadata": {},
   "outputs": [
    {
     "name": "stderr",
     "output_type": "stream",
     "text": [
      "2024-04-06 17:39:02.362 python[50232:5866155] WARNING: AVCaptureDeviceTypeExternal is deprecated for Continuity Cameras. Please use AVCaptureDeviceTypeContinuityCamera and add NSCameraUseContinuityCameraDeviceType to your Info.plist.\n"
     ]
    },
    {
     "name": "stdout",
     "output_type": "stream",
     "text": [
      "\n",
      "0: 384x640 1 happy, 328.1ms\n",
      "Speed: 3.2ms preprocess, 328.1ms inference, 1.7ms postprocess per image at shape (1, 3, 384, 640)\n",
      "3\n",
      "\n"
     ]
    },
    {
     "name": "stderr",
     "output_type": "stream",
     "text": [
      "[W NNPACK.cpp:64] Could not initialize NNPACK! Reason: Unsupported hardware.\n"
     ]
    },
    {
     "name": "stdout",
     "output_type": "stream",
     "text": [
      "0: 384x640 1 happy, 256.9ms\n",
      "Speed: 1.6ms preprocess, 256.9ms inference, 0.9ms postprocess per image at shape (1, 3, 384, 640)\n",
      "3\n",
      "\n",
      "0: 384x640 1 happy, 240.5ms\n",
      "Speed: 1.5ms preprocess, 240.5ms inference, 0.8ms postprocess per image at shape (1, 3, 384, 640)\n",
      "3\n",
      "\n",
      "0: 384x640 1 happy, 240.2ms\n",
      "Speed: 1.3ms preprocess, 240.2ms inference, 0.8ms postprocess per image at shape (1, 3, 384, 640)\n",
      "3\n",
      "\n",
      "0: 384x640 1 happy, 240.3ms\n",
      "Speed: 1.4ms preprocess, 240.3ms inference, 0.8ms postprocess per image at shape (1, 3, 384, 640)\n",
      "3\n",
      "\n",
      "0: 384x640 (no detections), 240.8ms\n",
      "Speed: 1.6ms preprocess, 240.8ms inference, 0.5ms postprocess per image at shape (1, 3, 384, 640)\n",
      "0\n",
      "\n",
      "0: 384x640 (no detections), 238.8ms\n",
      "Speed: 1.4ms preprocess, 238.8ms inference, 0.5ms postprocess per image at shape (1, 3, 384, 640)\n",
      "0\n",
      "\n",
      "0: 384x640 1 happy, 240.7ms\n",
      "Speed: 1.3ms preprocess, 240.7ms inference, 0.8ms postprocess per image at shape (1, 3, 384, 640)\n",
      "3\n",
      "\n",
      "0: 384x640 1 happy, 242.7ms\n",
      "Speed: 1.4ms preprocess, 242.7ms inference, 0.8ms postprocess per image at shape (1, 3, 384, 640)\n",
      "3\n",
      "\n",
      "0: 384x640 1 happy, 239.9ms\n",
      "Speed: 1.4ms preprocess, 239.9ms inference, 0.8ms postprocess per image at shape (1, 3, 384, 640)\n",
      "3\n",
      "\n",
      "0: 384x640 1 happy, 239.8ms\n",
      "Speed: 1.5ms preprocess, 239.8ms inference, 0.7ms postprocess per image at shape (1, 3, 384, 640)\n",
      "3\n",
      "\n",
      "0: 384x640 (no detections), 239.1ms\n",
      "Speed: 1.4ms preprocess, 239.1ms inference, 0.5ms postprocess per image at shape (1, 3, 384, 640)\n",
      "0\n",
      "\n",
      "0: 384x640 1 happy, 248.3ms\n",
      "Speed: 1.8ms preprocess, 248.3ms inference, 0.9ms postprocess per image at shape (1, 3, 384, 640)\n",
      "3\n",
      "\n",
      "0: 384x640 (no detections), 244.4ms\n",
      "Speed: 1.8ms preprocess, 244.4ms inference, 0.5ms postprocess per image at shape (1, 3, 384, 640)\n",
      "0\n",
      "\n",
      "0: 384x640 (no detections), 240.2ms\n",
      "Speed: 1.5ms preprocess, 240.2ms inference, 0.5ms postprocess per image at shape (1, 3, 384, 640)\n",
      "0\n",
      "\n",
      "0: 384x640 (no detections), 252.0ms\n",
      "Speed: 2.1ms preprocess, 252.0ms inference, 0.5ms postprocess per image at shape (1, 3, 384, 640)\n",
      "0\n",
      "\n",
      "0: 384x640 (no detections), 239.7ms\n",
      "Speed: 1.5ms preprocess, 239.7ms inference, 0.5ms postprocess per image at shape (1, 3, 384, 640)\n",
      "0\n",
      "\n",
      "0: 384x640 (no detections), 239.3ms\n",
      "Speed: 1.4ms preprocess, 239.3ms inference, 0.5ms postprocess per image at shape (1, 3, 384, 640)\n",
      "0\n",
      "\n",
      "0: 384x640 (no detections), 238.7ms\n",
      "Speed: 1.3ms preprocess, 238.7ms inference, 0.5ms postprocess per image at shape (1, 3, 384, 640)\n",
      "0\n",
      "\n",
      "0: 384x640 (no detections), 238.9ms\n",
      "Speed: 1.4ms preprocess, 238.9ms inference, 0.5ms postprocess per image at shape (1, 3, 384, 640)\n",
      "0\n",
      "\n",
      "0: 384x640 (no detections), 239.1ms\n",
      "Speed: 1.4ms preprocess, 239.1ms inference, 0.5ms postprocess per image at shape (1, 3, 384, 640)\n",
      "0\n",
      "\n",
      "0: 384x640 1 happy, 238.8ms\n",
      "Speed: 1.5ms preprocess, 238.8ms inference, 0.8ms postprocess per image at shape (1, 3, 384, 640)\n",
      "3\n",
      "\n",
      "0: 384x640 (no detections), 239.6ms\n",
      "Speed: 1.4ms preprocess, 239.6ms inference, 0.5ms postprocess per image at shape (1, 3, 384, 640)\n",
      "0\n",
      "\n",
      "0: 384x640 1 happy, 240.4ms\n",
      "Speed: 1.7ms preprocess, 240.4ms inference, 0.9ms postprocess per image at shape (1, 3, 384, 640)\n",
      "3\n",
      "\n",
      "0: 384x640 1 happy, 239.1ms\n",
      "Speed: 1.5ms preprocess, 239.1ms inference, 0.8ms postprocess per image at shape (1, 3, 384, 640)\n",
      "3\n",
      "\n",
      "0: 384x640 1 happy, 238.7ms\n",
      "Speed: 1.5ms preprocess, 238.7ms inference, 0.8ms postprocess per image at shape (1, 3, 384, 640)\n",
      "3\n",
      "\n",
      "0: 384x640 (no detections), 238.2ms\n",
      "Speed: 1.5ms preprocess, 238.2ms inference, 0.5ms postprocess per image at shape (1, 3, 384, 640)\n",
      "0\n",
      "\n",
      "0: 384x640 1 happy, 238.7ms\n",
      "Speed: 1.5ms preprocess, 238.7ms inference, 0.8ms postprocess per image at shape (1, 3, 384, 640)\n",
      "3\n",
      "\n",
      "0: 384x640 1 happy, 238.6ms\n",
      "Speed: 1.6ms preprocess, 238.6ms inference, 0.9ms postprocess per image at shape (1, 3, 384, 640)\n",
      "3\n",
      "\n",
      "0: 384x640 1 happy, 239.6ms\n",
      "Speed: 1.7ms preprocess, 239.6ms inference, 0.8ms postprocess per image at shape (1, 3, 384, 640)\n",
      "3\n",
      "\n",
      "0: 384x640 1 happy, 240.7ms\n",
      "Speed: 1.5ms preprocess, 240.7ms inference, 0.8ms postprocess per image at shape (1, 3, 384, 640)\n",
      "3\n",
      "\n",
      "0: 384x640 1 happy, 239.2ms\n",
      "Speed: 1.7ms preprocess, 239.2ms inference, 0.7ms postprocess per image at shape (1, 3, 384, 640)\n",
      "3\n",
      "\n",
      "0: 384x640 1 happy, 238.4ms\n",
      "Speed: 1.4ms preprocess, 238.4ms inference, 0.8ms postprocess per image at shape (1, 3, 384, 640)\n",
      "3\n",
      "======result======\n",
      "nan : 13\n",
      "angry : 0\n",
      "fear : 0\n",
      "happy : 20\n",
      "neutral : 0\n",
      "sad : 0\n",
      "======result======\n",
      "======output======\n",
      "index : 3\n",
      "happy\n",
      "======output======\n"
     ]
    },
    {
     "ename": "",
     "evalue": "",
     "output_type": "error",
     "traceback": [
      "\u001b[1;31mThe Kernel crashed while executing code in the current cell or a previous cell. \n",
      "\u001b[1;31mPlease review the code in the cell(s) to identify a possible cause of the failure. \n",
      "\u001b[1;31mClick <a href='https://aka.ms/vscodeJupyterKernelCrash'>here</a> for more info. \n",
      "\u001b[1;31mView Jupyter <a href='command:jupyter.viewOutput'>log</a> for further details."
     ]
    }
   ],
   "source": []
  },
  {
   "cell_type": "code",
   "execution_count": null,
   "metadata": {},
   "outputs": [],
   "source": [
    "## camera test\n",
    "\n",
    "import cv2\n",
    "from ultralytics import YOLO\n",
    "\n",
    "# Load the YOLOv8 model\n",
    "model = YOLO(dir+'runs/detect/train2/weights/best.pt')\n",
    "\n",
    "# Open the video file\n",
    "#video_path = dir+\"path/to/your/video/file.mp4\"\n",
    "cap = cv2.VideoCapture(0) # 오류 나면 0 -> 1\n",
    "\n",
    "# Loop through the video frames\n",
    "while cap.isOpened():\n",
    "    # Read a frame from the video\n",
    "    success, frame = cap.read()\n",
    "\n",
    "    if success:\n",
    "        # Run YOLOv8 inference on the frame\n",
    "        results = model(frame)\n",
    "\n",
    "        # Visualize the results on the frame\n",
    "        annotated_frame = results[0].plot()\n",
    "\n",
    "        # Display the annotated frame\n",
    "        cv2.imshow(\"YOLOv8 Inference\", annotated_frame)\n",
    "\n",
    "        # Break the loop if 'q' is pressed\n",
    "        if cv2.waitKey(1) & 0xFF == ord(\"q\"):\n",
    "            break\n",
    "    else:\n",
    "        # Break the loop if the end of the video is reached\n",
    "        break\n",
    "\n",
    "# Release the video capture object and close the display window\n",
    "cap.release()\n",
    "cv2.destroyAllWindows()"
   ]
  },
  {
   "cell_type": "code",
   "execution_count": 6,
   "metadata": {},
   "outputs": [
    {
     "name": "stdout",
     "output_type": "stream",
     "text": [
      "1712392682.270161 \n",
      " 1712392692.270161\n"
     ]
    }
   ],
   "source": [
    "import time\n",
    "t = time.time()\n",
    "end = t + 10\n",
    "print(t,'\\n',end)"
   ]
  }
 ],
 "metadata": {
  "kernelspec": {
   "display_name": "spm",
   "language": "python",
   "name": "python3"
  },
  "language_info": {
   "codemirror_mode": {
    "name": "ipython",
    "version": 3
   },
   "file_extension": ".py",
   "mimetype": "text/x-python",
   "name": "python",
   "nbconvert_exporter": "python",
   "pygments_lexer": "ipython3",
   "version": "3.8.18"
  }
 },
 "nbformat": 4,
 "nbformat_minor": 2
}
